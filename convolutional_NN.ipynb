{
  "nbformat": 4,
  "nbformat_minor": 0,
  "metadata": {
    "colab": {
      "name": "convolutional_NN.ipynb",
      "provenance": []
    },
    "kernelspec": {
      "name": "python3",
      "display_name": "Python 3"
    },
    "language_info": {
      "name": "python"
    }
  },
  "cells": [
    {
      "cell_type": "code",
      "execution_count": null,
      "metadata": {
        "id": "BXUdz0UtuEc-"
      },
      "outputs": [],
      "source": [
        "import tensorflow as tf\n",
        "from keras.preprocessing.image import ImageDataGenerator\n"
      ]
    },
    {
      "cell_type": "code",
      "source": [
        "tf.__version__"
      ],
      "metadata": {
        "colab": {
          "base_uri": "https://localhost:8080/",
          "height": 35
        },
        "id": "4lGT0umcumFI",
        "outputId": "bb9e4a2d-cb68-40cb-a3aa-c9e382256306"
      },
      "execution_count": null,
      "outputs": [
        {
          "output_type": "execute_result",
          "data": {
            "application/vnd.google.colaboratory.intrinsic+json": {
              "type": "string"
            },
            "text/plain": [
              "'2.8.0'"
            ]
          },
          "metadata": {},
          "execution_count": 2
        }
      ]
    },
    {
      "cell_type": "markdown",
      "source": [
        "Testing for GPU"
      ],
      "metadata": {
        "id": "zS20LlROuvH-"
      }
    },
    {
      "cell_type": "code",
      "source": [
        "tf.test.gpu_device_name"
      ],
      "metadata": {
        "colab": {
          "base_uri": "https://localhost:8080/"
        },
        "id": "Z0sqI0pPuoJ5",
        "outputId": "f6676d20-80e0-4d09-e717-f634270b3b14"
      },
      "execution_count": null,
      "outputs": [
        {
          "output_type": "execute_result",
          "data": {
            "text/plain": [
              "<function tensorflow.python.framework.test_util.gpu_device_name>"
            ]
          },
          "metadata": {},
          "execution_count": 3
        }
      ]
    },
    {
      "cell_type": "code",
      "source": [
        "import os\n",
        "os.chdir('/content/drive/MyDrive/Datasets/CNN')"
      ],
      "metadata": {
        "id": "wbobbW3Au2Pg"
      },
      "execution_count": null,
      "outputs": []
    },
    {
      "cell_type": "code",
      "source": [
        "train_datagen = ImageDataGenerator(rescale = 1./255,shear_range=0.2, zoom_range=0.2, horizontal_flip=True)\n",
        "\n",
        "training_set = train_datagen.flow_from_directory('/content/drive/MyDrive/Datasets/CNN/Image Classification (Cats vs Dogs)/training_set',target_size=(64,64),batch_size=32, class_mode='binary')"
      ],
      "metadata": {
        "colab": {
          "base_uri": "https://localhost:8080/"
        },
        "id": "5G5lnhXQWWdr",
        "outputId": "65388113-b1e6-4906-8262-f6498b3598cf"
      },
      "execution_count": null,
      "outputs": [
        {
          "output_type": "stream",
          "name": "stdout",
          "text": [
            "Found 4000 images belonging to 2 classes.\n"
          ]
        }
      ]
    },
    {
      "cell_type": "markdown",
      "source": [
        "\n",
        "Preprocessing the Test set"
      ],
      "metadata": {
        "id": "C4TxbX7mdS8Q"
      }
    },
    {
      "cell_type": "code",
      "source": [
        "test_datagen = ImageDataGenerator(rescale= 1./255)\n",
        "test_set = test_datagen.flow_from_directory('/content/drive/MyDrive/Datasets/CNN/Image Classification (Cats vs Dogs)/test_set',target_size=(64,64),batch_size=32,class_mode='binary')"
      ],
      "metadata": {
        "colab": {
          "base_uri": "https://localhost:8080/"
        },
        "id": "CscHfuOOcFzp",
        "outputId": "3452e955-b59c-461e-e626-c40f648f4ebc"
      },
      "execution_count": null,
      "outputs": [
        {
          "output_type": "stream",
          "name": "stdout",
          "text": [
            "Found 1000 images belonging to 2 classes.\n"
          ]
        }
      ]
    },
    {
      "cell_type": "markdown",
      "source": [
        "Building the CNN"
      ],
      "metadata": {
        "id": "irENyNcggqpz"
      }
    },
    {
      "cell_type": "code",
      "source": [
        "cnn = tf.keras.models.Sequential()"
      ],
      "metadata": {
        "id": "GTxQW_k3gnRN"
      },
      "execution_count": null,
      "outputs": []
    },
    {
      "cell_type": "markdown",
      "source": [
        "Convolution"
      ],
      "metadata": {
        "id": "dmpBLkqzg4E4"
      }
    },
    {
      "cell_type": "code",
      "source": [
        "cnn.add(tf.keras.layers.Conv2D(filters=32, kernel_size=3, activation='relu', input_shape=[64, 64, 3]))\n",
        "\n",
        "cnn.add(tf.keras.layers.MaxPool2D(pool_size=2, strides=2))"
      ],
      "metadata": {
        "id": "IMRqO5Bsg3LY"
      },
      "execution_count": null,
      "outputs": []
    },
    {
      "cell_type": "markdown",
      "source": [
        "Adding a second convolutional layer and pooling"
      ],
      "metadata": {
        "id": "n5MakQ8xj68L"
      }
    },
    {
      "cell_type": "code",
      "source": [
        "cnn.add(tf.keras.layers.Conv2D(filters=32, kernel_size=3, activation='relu'))\n",
        "cnn.add(tf.keras.layers.MaxPool2D(pool_size=2, strides=2))"
      ],
      "metadata": {
        "id": "E8cIdiHgjyTG"
      },
      "execution_count": null,
      "outputs": []
    },
    {
      "cell_type": "markdown",
      "source": [
        "Flattening"
      ],
      "metadata": {
        "id": "j5DiYWsXkEfu"
      }
    },
    {
      "cell_type": "code",
      "source": [
        "cnn.add(tf.keras.layers.Flatten())"
      ],
      "metadata": {
        "id": "BGjXSBywj_BR"
      },
      "execution_count": null,
      "outputs": []
    },
    {
      "cell_type": "markdown",
      "source": [
        "Full Connection"
      ],
      "metadata": {
        "id": "1m2oDa8nlS3_"
      }
    },
    {
      "cell_type": "code",
      "source": [
        "cnn.add(tf.keras.layers.Dense(units=128, activation='relu'))"
      ],
      "metadata": {
        "id": "4M87wLI8lUSL"
      },
      "execution_count": null,
      "outputs": []
    },
    {
      "cell_type": "markdown",
      "source": [
        "Output Layer"
      ],
      "metadata": {
        "id": "YuelVl0ukRD5"
      }
    },
    {
      "cell_type": "code",
      "source": [
        "cnn.add(tf.keras.layers.Dense(units=1, activation='sigmoid'))"
      ],
      "metadata": {
        "id": "x_7EtNS3kMp7"
      },
      "execution_count": null,
      "outputs": []
    },
    {
      "cell_type": "code",
      "source": [
        "cnn.summary()"
      ],
      "metadata": {
        "colab": {
          "base_uri": "https://localhost:8080/"
        },
        "id": "ZW-Q31sdkyds",
        "outputId": "a2db1db0-bdd9-4ea1-cbb0-7773f07a51db"
      },
      "execution_count": null,
      "outputs": [
        {
          "output_type": "stream",
          "name": "stdout",
          "text": [
            "Model: \"sequential\"\n",
            "_________________________________________________________________\n",
            " Layer (type)                Output Shape              Param #   \n",
            "=================================================================\n",
            " conv2d (Conv2D)             (None, 62, 62, 32)        896       \n",
            "                                                                 \n",
            " max_pooling2d (MaxPooling2D  (None, 31, 31, 32)       0         \n",
            " )                                                               \n",
            "                                                                 \n",
            " conv2d_1 (Conv2D)           (None, 29, 29, 32)        9248      \n",
            "                                                                 \n",
            " max_pooling2d_1 (MaxPooling  (None, 14, 14, 32)       0         \n",
            " 2D)                                                             \n",
            "                                                                 \n",
            " flatten (Flatten)           (None, 6272)              0         \n",
            "                                                                 \n",
            " dense (Dense)               (None, 128)               802944    \n",
            "                                                                 \n",
            " dense_1 (Dense)             (None, 1)                 129       \n",
            "                                                                 \n",
            "=================================================================\n",
            "Total params: 813,217\n",
            "Trainable params: 813,217\n",
            "Non-trainable params: 0\n",
            "_________________________________________________________________\n"
          ]
        }
      ]
    },
    {
      "cell_type": "markdown",
      "source": [
        "Training the CNN\n",
        "Compiling the CNN"
      ],
      "metadata": {
        "id": "Zr2A-Uhvm9gz"
      }
    },
    {
      "cell_type": "code",
      "source": [
        "cnn.compile(optimizer='adam',loss='binary_crossentropy',metrics=['accuracy'])"
      ],
      "metadata": {
        "id": "O8okZXxpldk-"
      },
      "execution_count": null,
      "outputs": []
    },
    {
      "cell_type": "markdown",
      "source": [
        "Training the CNN on the Training set and evaluating it on the Test set"
      ],
      "metadata": {
        "id": "i2wkQcRCnWEc"
      }
    },
    {
      "cell_type": "code",
      "source": [
        "cnn.fit(x = training_set,validation_data= test_set, epochs=25)"
      ],
      "metadata": {
        "id": "G-IYh40GnVZQ",
        "colab": {
          "base_uri": "https://localhost:8080/"
        },
        "outputId": "40d13b62-bc91-4d5a-8102-0495a9f69e20"
      },
      "execution_count": null,
      "outputs": [
        {
          "output_type": "stream",
          "name": "stdout",
          "text": [
            "Epoch 1/25\n",
            "125/125 [==============================] - 808s 6s/step - loss: 0.6745 - accuracy: 0.5853 - val_loss: 0.6467 - val_accuracy: 0.6010\n",
            "Epoch 2/25\n",
            "125/125 [==============================] - 40s 323ms/step - loss: 0.6430 - accuracy: 0.6472 - val_loss: 0.6147 - val_accuracy: 0.6950\n",
            "Epoch 3/25\n",
            "125/125 [==============================] - 40s 320ms/step - loss: 0.6206 - accuracy: 0.6640 - val_loss: 0.5701 - val_accuracy: 0.7170\n",
            "Epoch 4/25\n",
            "125/125 [==============================] - 40s 319ms/step - loss: 0.5829 - accuracy: 0.7015 - val_loss: 0.5627 - val_accuracy: 0.7360\n",
            "Epoch 5/25\n",
            "125/125 [==============================] - 40s 321ms/step - loss: 0.5556 - accuracy: 0.7105 - val_loss: 0.5352 - val_accuracy: 0.7480\n",
            "Epoch 6/25\n",
            "125/125 [==============================] - 40s 321ms/step - loss: 0.5384 - accuracy: 0.7285 - val_loss: 0.5336 - val_accuracy: 0.7440\n",
            "Epoch 7/25\n",
            "125/125 [==============================] - 40s 321ms/step - loss: 0.5078 - accuracy: 0.7430 - val_loss: 0.5215 - val_accuracy: 0.7450\n",
            "Epoch 8/25\n",
            "125/125 [==============================] - 40s 318ms/step - loss: 0.4921 - accuracy: 0.7595 - val_loss: 0.5198 - val_accuracy: 0.7610\n",
            "Epoch 9/25\n",
            "125/125 [==============================] - 40s 321ms/step - loss: 0.4844 - accuracy: 0.7598 - val_loss: 0.5530 - val_accuracy: 0.7300\n",
            "Epoch 10/25\n",
            "125/125 [==============================] - 40s 319ms/step - loss: 0.4636 - accuracy: 0.7745 - val_loss: 0.5070 - val_accuracy: 0.7580\n",
            "Epoch 11/25\n",
            "125/125 [==============================] - 40s 319ms/step - loss: 0.4553 - accuracy: 0.7778 - val_loss: 0.5145 - val_accuracy: 0.7830\n",
            "Epoch 12/25\n",
            "125/125 [==============================] - 40s 319ms/step - loss: 0.4280 - accuracy: 0.8027 - val_loss: 0.5018 - val_accuracy: 0.7660\n",
            "Epoch 13/25\n",
            "125/125 [==============================] - 40s 320ms/step - loss: 0.4216 - accuracy: 0.7985 - val_loss: 0.5226 - val_accuracy: 0.7490\n",
            "Epoch 14/25\n",
            "125/125 [==============================] - 42s 333ms/step - loss: 0.4007 - accuracy: 0.8183 - val_loss: 0.5241 - val_accuracy: 0.7610\n",
            "Epoch 15/25\n",
            "125/125 [==============================] - 41s 329ms/step - loss: 0.3809 - accuracy: 0.8255 - val_loss: 0.4975 - val_accuracy: 0.7870\n",
            "Epoch 16/25\n",
            "125/125 [==============================] - 40s 323ms/step - loss: 0.3758 - accuracy: 0.8325 - val_loss: 0.4963 - val_accuracy: 0.7720\n",
            "Epoch 17/25\n",
            "125/125 [==============================] - 40s 321ms/step - loss: 0.3411 - accuracy: 0.8500 - val_loss: 0.5401 - val_accuracy: 0.7780\n",
            "Epoch 18/25\n",
            "125/125 [==============================] - 40s 320ms/step - loss: 0.3338 - accuracy: 0.8615 - val_loss: 0.5624 - val_accuracy: 0.7670\n",
            "Epoch 19/25\n",
            "125/125 [==============================] - 40s 320ms/step - loss: 0.3148 - accuracy: 0.8662 - val_loss: 0.5705 - val_accuracy: 0.7410\n",
            "Epoch 20/25\n",
            "125/125 [==============================] - 40s 321ms/step - loss: 0.2965 - accuracy: 0.8690 - val_loss: 0.5301 - val_accuracy: 0.7800\n",
            "Epoch 21/25\n",
            "125/125 [==============================] - 40s 322ms/step - loss: 0.2826 - accuracy: 0.8813 - val_loss: 0.5366 - val_accuracy: 0.7790\n",
            "Epoch 22/25\n",
            "125/125 [==============================] - 40s 319ms/step - loss: 0.2749 - accuracy: 0.8817 - val_loss: 0.5626 - val_accuracy: 0.7710\n",
            "Epoch 23/25\n",
            "125/125 [==============================] - 40s 320ms/step - loss: 0.2497 - accuracy: 0.9005 - val_loss: 0.5737 - val_accuracy: 0.7710\n",
            "Epoch 24/25\n",
            "125/125 [==============================] - 40s 319ms/step - loss: 0.2464 - accuracy: 0.9005 - val_loss: 0.5474 - val_accuracy: 0.7850\n",
            "Epoch 25/25\n",
            "125/125 [==============================] - 40s 320ms/step - loss: 0.2267 - accuracy: 0.9075 - val_loss: 0.6186 - val_accuracy: 0.7540\n"
          ]
        },
        {
          "output_type": "execute_result",
          "data": {
            "text/plain": [
              "<keras.callbacks.History at 0x7f3adcf22b50>"
            ]
          },
          "metadata": {},
          "execution_count": 16
        }
      ]
    },
    {
      "cell_type": "markdown",
      "source": [
        "Making a single prediction"
      ],
      "metadata": {
        "id": "uyPzO3BGbWs8"
      }
    },
    {
      "cell_type": "code",
      "source": [
        "\n",
        "import numpy as np\n",
        "from keras.preprocessing import image\n",
        "\n",
        "test_image= image.load_img('/content/drive/MyDrive/Datasets/CNN/dog_230497594.jpeg', target_size=(64,64))\n",
        "test_image = image.img_to_array(test_image)\n",
        "test_image = np.expand_dims(test_image,axis = 0)\n",
        "\n",
        "result = cnn.predict(test_image)\n",
        "\n",
        "training_set.class_indices\n",
        "if result[0][0] == 1:\n",
        "  prediction = 'dog'\n",
        "else:\n",
        "  prediction = 'cat'\n"
      ],
      "metadata": {
        "id": "_71jKBjHbQSg"
      },
      "execution_count": null,
      "outputs": []
    },
    {
      "cell_type": "code",
      "source": [
        "print(prediction)"
      ],
      "metadata": {
        "colab": {
          "base_uri": "https://localhost:8080/"
        },
        "id": "s-AABp9Mio7g",
        "outputId": "8559e69a-65fd-4d21-c30a-8e43d1586928"
      },
      "execution_count": null,
      "outputs": [
        {
          "output_type": "stream",
          "name": "stdout",
          "text": [
            "dog\n"
          ]
        }
      ]
    }
  ]
}